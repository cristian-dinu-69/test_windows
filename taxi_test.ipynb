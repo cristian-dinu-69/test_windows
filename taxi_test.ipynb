{
 "cells": [
  {
   "cell_type": "code",
   "execution_count": 1,
   "metadata": {},
   "outputs": [],
   "source": [
    "import pandas as pd"
   ]
  },
  {
   "cell_type": "code",
   "execution_count": 2,
   "metadata": {},
   "outputs": [],
   "source": [
    "import pyspark\n",
    "from pyspark.sql import SparkSession"
   ]
  },
  {
   "cell_type": "code",
   "execution_count": 3,
   "metadata": {},
   "outputs": [],
   "source": [
    "spark = SparkSession.builder.appName(\"testing_windows\").getOrCreate()"
   ]
  },
  {
   "cell_type": "code",
   "execution_count": 4,
   "metadata": {},
   "outputs": [],
   "source": [
    "df = spark.sql(\"\"\"Select \"hello world\" as MESSAGE\"\"\")"
   ]
  },
  {
   "cell_type": "code",
   "execution_count": 5,
   "metadata": {},
   "outputs": [
    {
     "name": "stdout",
     "output_type": "stream",
     "text": [
      "+-----------+\n",
      "|    MESSAGE|\n",
      "+-----------+\n",
      "|hello world|\n",
      "+-----------+\n",
      "\n"
     ]
    }
   ],
   "source": [
    "df.show()"
   ]
  },
  {
   "cell_type": "code",
   "execution_count": 6,
   "metadata": {},
   "outputs": [],
   "source": [
    "df_taxi = spark.read.parquet(\"fhv_tripdata_2023-01.parquet\")"
   ]
  },
  {
   "cell_type": "code",
   "execution_count": 7,
   "metadata": {},
   "outputs": [],
   "source": [
    "df_taxi.createOrReplaceTempView(\"taxi_table\")"
   ]
  },
  {
   "cell_type": "code",
   "execution_count": 8,
   "metadata": {},
   "outputs": [],
   "source": [
    "df_data = spark.sql(\"\"\"select * from taxi_table limit 10\"\"\" )"
   ]
  },
  {
   "cell_type": "code",
   "execution_count": 9,
   "metadata": {},
   "outputs": [
    {
     "name": "stdout",
     "output_type": "stream",
     "text": [
      "+--------------------+-------------------+-------------------+------------+------------+-------+----------------------+\n",
      "|dispatching_base_num|    pickup_datetime|   dropOff_datetime|PUlocationID|DOlocationID|SR_Flag|Affiliated_base_number|\n",
      "+--------------------+-------------------+-------------------+------------+------------+-------+----------------------+\n",
      "|              B00008|2023-01-01 00:30:00|2023-01-01 01:00:00|        null|        null|   null|                B00008|\n",
      "|              B00078|2023-01-01 00:01:00|2023-01-01 03:15:00|        null|        null|   null|                B00078|\n",
      "|              B00111|2023-01-01 00:30:00|2023-01-01 01:05:00|        null|        null|   null|                B03406|\n",
      "|              B00112|2023-01-01 00:34:45|2023-01-01 00:52:03|        null|        14.0|   null|                B00112|\n",
      "|              B00112|2023-01-01 00:11:20|2023-01-01 00:22:03|        null|        14.0|   null|                B00112|\n",
      "|              B00112|2023-01-01 00:33:28|2023-01-01 00:53:46|        null|        29.0|   null|                B00112|\n",
      "|              B00112|2023-01-01 00:33:11|2023-01-01 00:48:45|        null|        14.0|   null|                B00112|\n",
      "|              B00112|2023-01-01 00:55:24|2023-01-01 01:02:55|        null|        14.0|   null|                B00112|\n",
      "|              B00112|2023-01-01 00:39:16|2023-01-01 00:39:23|        null|        14.0|   null|                B00112|\n",
      "|              B00112|2023-01-01 00:50:10|2023-01-01 00:50:17|        null|        14.0|   null|                B00112|\n",
      "+--------------------+-------------------+-------------------+------------+------------+-------+----------------------+\n",
      "\n"
     ]
    }
   ],
   "source": [
    "df_data.show()"
   ]
  },
  {
   "cell_type": "code",
   "execution_count": null,
   "metadata": {},
   "outputs": [],
   "source": []
  }
 ],
 "metadata": {
  "kernelspec": {
   "display_name": ".venv",
   "language": "python",
   "name": "python3"
  },
  "language_info": {
   "codemirror_mode": {
    "name": "ipython",
    "version": 3
   },
   "file_extension": ".py",
   "mimetype": "text/x-python",
   "name": "python",
   "nbconvert_exporter": "python",
   "pygments_lexer": "ipython3",
   "version": "3.10.11"
  }
 },
 "nbformat": 4,
 "nbformat_minor": 2
}
